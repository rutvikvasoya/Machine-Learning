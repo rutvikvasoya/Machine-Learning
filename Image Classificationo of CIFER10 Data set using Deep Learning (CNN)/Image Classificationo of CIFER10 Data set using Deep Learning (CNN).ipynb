{
 "cells": [
  {
   "cell_type": "code",
   "execution_count": 75,
   "metadata": {
    "id": "4BYO2zvpzCBM"
   },
   "outputs": [],
   "source": [
    "import tensorflow as tf\n",
    "from tensorflow.keras import datasets,layers,models\n",
    "import numpy as np\n",
    "import pandas as pd\n",
    "import matplotlib.pyplot as plt\n",
    "from keras.models import Sequential\n",
    "from keras.layers.convolutional import Conv2D\n",
    "from keras.layers import Conv2D, MaxPooling2D\n",
    "from keras.layers import Activation, Dense\n",
    "from sklearn.metrics import plot_confusion_matrix\n",
    "from sklearn.metrics import confusion_matrix\n",
    "\n",
    "from sklearn import datasets, svm, metrics\n"
   ]
  },
  {
   "cell_type": "code",
   "execution_count": 17,
   "metadata": {
    "id": "IsZLeT5AzD5O"
   },
   "outputs": [],
   "source": [
    "(X_train,Y_train),(X_test,Y_test)=datasets.cifar10.load_data()"
   ]
  },
  {
   "cell_type": "code",
   "execution_count": 18,
   "metadata": {
    "colab": {
     "base_uri": "https://localhost:8080/"
    },
    "id": "mt2IiGIwzgG5",
    "outputId": "9e523eb6-dee6-416a-9c2c-f4f4162bf1d5"
   },
   "outputs": [
    {
     "name": "stdout",
     "output_type": "stream",
     "text": [
      "(50000, 32, 32, 3)\n",
      "(10000, 32, 32, 3)\n"
     ]
    }
   ],
   "source": [
    "print(X_train.shape)\n",
    "print(X_test.shape)"
   ]
  },
  {
   "cell_type": "code",
   "execution_count": 19,
   "metadata": {
    "colab": {
     "base_uri": "https://localhost:8080/",
     "height": 283
    },
    "id": "-JzJqQ0Sz5bo",
    "outputId": "4864aee5-9e1b-4033-a9f1-15e5d97c514a"
   },
   "outputs": [
    {
     "data": {
      "text/plain": [
       "<matplotlib.image.AxesImage at 0x7fb4c7a47490>"
      ]
     },
     "execution_count": 19,
     "metadata": {},
     "output_type": "execute_result"
    },
    {
     "data": {
      "image/png": "[encoded data removed]",
      "text/plain": [
       "<Figure size 432x288 with 1 Axes>"
      ]
     },
     "metadata": {
      "needs_background": "light"
     },
     "output_type": "display_data"
    }
   ],
   "source": [
    "plt.imshow(X_train[0])"
   ]
  },
  {
   "cell_type": "code",
   "execution_count": 20,
   "metadata": {
    "colab": {
     "base_uri": "https://localhost:8080/"
    },
    "id": "us7ptN_H0DOv",
    "outputId": "59f44607-d056-48d9-b229-37c6af080d15"
   },
   "outputs": [
    {
     "name": "stdout",
     "output_type": "stream",
     "text": [
      "[[6]\n",
      " [9]\n",
      " [9]\n",
      " [4]\n",
      " [1]]\n"
     ]
    }
   ],
   "source": [
    "print(Y_train[:5])"
   ]
  },
  {
   "cell_type": "code",
   "execution_count": 21,
   "metadata": {
    "id": "rszcx-zU0J_j"
   },
   "outputs": [],
   "source": [
    "classes = ['airplan','automobile','bird','cat','deer','dog','frog','horse','ship','truck']"
   ]
  },
  {
   "cell_type": "code",
   "execution_count": 22,
   "metadata": {
    "id": "98LK1idg0c9R"
   },
   "outputs": [],
   "source": [
    "Y_train = Y_train.ravel() #coverted into 1D"
   ]
  },
  {
   "cell_type": "code",
   "execution_count": 23,
   "metadata": {
    "colab": {
     "base_uri": "https://localhost:8080/"
    },
    "id": "MjF9yLFK07NQ",
    "outputId": "302094a2-7bf5-48d5-fd4f-817734662bd0"
   },
   "outputs": [
    {
     "name": "stdout",
     "output_type": "stream",
     "text": [
      "[6 9 9 4 1]\n"
     ]
    }
   ],
   "source": [
    "print(Y_train[:5])"
   ]
  },
  {
   "cell_type": "code",
   "execution_count": 24,
   "metadata": {
    "id": "xaYkxkLd09PM"
   },
   "outputs": [],
   "source": [
    "X_train = X_train/255\n",
    "X_test = X_test/255    #normalize into 0 to 1 range\n"
   ]
  },
  {
   "cell_type": "code",
   "execution_count": 26,
   "metadata": {
    "id": "wv5KXCjL1R4t"
   },
   "outputs": [],
   "source": [
    "#making a convolution neural network"
   ]
  },
  {
   "cell_type": "code",
   "execution_count": 40,
   "metadata": {
    "id": "m50icsbv1Y7j"
   },
   "outputs": [],
   "source": [
    "from keras.layers.core.flatten import Flatten\n",
    "model = Sequential()\n",
    "\n",
    "\n",
    "model.add(Conv2D(32, (3, 3), padding=\"same\", activation=\"relu\",input_shape=(32,32,3)))\n",
    "model.add(MaxPooling2D(2,2))\n",
    "\n",
    "model.add(Conv2D(16, (3, 3), padding=\"same\", activation=\"relu\"))\n",
    "model.add(MaxPooling2D(2,2))\n",
    "\n",
    "model.add(Flatten())\n",
    "\n",
    "model.add(Dense(16,activation = 'relu'))\n",
    "model.add(Dense(32,activation = 'relu'))\n",
    "model.add(Dense(10,activation = 'softmax'))\n",
    "\n"
   ]
  },
  {
   "cell_type": "code",
   "execution_count": 53,
   "metadata": {
    "id": "ngi6pp3X1nuQ"
   },
   "outputs": [],
   "source": [
    "model.compile(loss='sparse_categorical_crossentropy', optimizer='adam', metrics=['accuracy'])\n"
   ]
  },
  {
   "cell_type": "code",
   "execution_count": 55,
   "metadata": {
    "colab": {
     "base_uri": "https://localhost:8080/"
    },
    "id": "8_upY8654GpP",
    "outputId": "da7db647-fe6d-4fec-f93d-3cefca2dabd9"
   },
   "outputs": [
    {
     "name": "stdout",
     "output_type": "stream",
     "text": [
      "Epoch 1/50\n",
      "1563/1563 [==============================] - 63s 41ms/step - loss: 0.8948 - accuracy: 0.6851\n",
      "Epoch 2/50\n",
      "1563/1563 [==============================] - 64s 41ms/step - loss: 0.8772 - accuracy: 0.6914\n",
      "Epoch 3/50\n",
      "1563/1563 [==============================] - 63s 40ms/step - loss: 0.8654 - accuracy: 0.6959\n",
      "Epoch 4/50\n",
      "1563/1563 [==============================] - 64s 41ms/step - loss: 0.8528 - accuracy: 0.7009\n",
      "Epoch 5/50\n",
      "1563/1563 [==============================] - 65s 41ms/step - loss: 0.8443 - accuracy: 0.7032\n",
      "Epoch 6/50\n",
      "1563/1563 [==============================] - 65s 41ms/step - loss: 0.8300 - accuracy: 0.7077\n",
      "Epoch 7/50\n",
      "1563/1563 [==============================] - 64s 41ms/step - loss: 0.8187 - accuracy: 0.7124\n",
      "Epoch 8/50\n",
      "1563/1563 [==============================] - 64s 41ms/step - loss: 0.8144 - accuracy: 0.7132\n",
      "Epoch 9/50\n",
      "1563/1563 [==============================] - 64s 41ms/step - loss: 0.8048 - accuracy: 0.7184\n",
      "Epoch 10/50\n",
      "1563/1563 [==============================] - 64s 41ms/step - loss: 0.7982 - accuracy: 0.7190\n",
      "Epoch 11/50\n",
      "1563/1563 [==============================] - 64s 41ms/step - loss: 0.7899 - accuracy: 0.7213\n",
      "Epoch 12/50\n",
      "1563/1563 [==============================] - 64s 41ms/step - loss: 0.7831 - accuracy: 0.7245\n",
      "Epoch 13/50\n",
      "1563/1563 [==============================] - 64s 41ms/step - loss: 0.7802 - accuracy: 0.7241\n",
      "Epoch 14/50\n",
      "1563/1563 [==============================] - 64s 41ms/step - loss: 0.7754 - accuracy: 0.7265\n",
      "Epoch 15/50\n",
      "1563/1563 [==============================] - 64s 41ms/step - loss: 0.7672 - accuracy: 0.7279\n",
      "Epoch 16/50\n",
      "1563/1563 [==============================] - 64s 41ms/step - loss: 0.7577 - accuracy: 0.7320\n",
      "Epoch 17/50\n",
      "1563/1563 [==============================] - 64s 41ms/step - loss: 0.7557 - accuracy: 0.7322\n",
      "Epoch 18/50\n",
      "1563/1563 [==============================] - 64s 41ms/step - loss: 0.7524 - accuracy: 0.7338\n",
      "Epoch 19/50\n",
      "1563/1563 [==============================] - 64s 41ms/step - loss: 0.7461 - accuracy: 0.7360\n",
      "Epoch 20/50\n",
      "1563/1563 [==============================] - 64s 41ms/step - loss: 0.7431 - accuracy: 0.7374\n",
      "Epoch 21/50\n",
      "1563/1563 [==============================] - 64s 41ms/step - loss: 0.7371 - accuracy: 0.7386\n",
      "Epoch 22/50\n",
      "1563/1563 [==============================] - 64s 41ms/step - loss: 0.7312 - accuracy: 0.7405\n",
      "Epoch 23/50\n",
      "1563/1563 [==============================] - 64s 41ms/step - loss: 0.7294 - accuracy: 0.7400\n",
      "Epoch 24/50\n",
      "1563/1563 [==============================] - 63s 40ms/step - loss: 0.7239 - accuracy: 0.7443\n",
      "Epoch 25/50\n",
      "1563/1563 [==============================] - 63s 40ms/step - loss: 0.7222 - accuracy: 0.7445\n",
      "Epoch 26/50\n",
      "1563/1563 [==============================] - 63s 40ms/step - loss: 0.7159 - accuracy: 0.7453\n",
      "Epoch 27/50\n",
      "1563/1563 [==============================] - 63s 40ms/step - loss: 0.7161 - accuracy: 0.7470\n",
      "Epoch 28/50\n",
      "1563/1563 [==============================] - 63s 40ms/step - loss: 0.7126 - accuracy: 0.7462\n",
      "Epoch 29/50\n",
      "1563/1563 [==============================] - 63s 40ms/step - loss: 0.7081 - accuracy: 0.7485\n",
      "Epoch 30/50\n",
      "1563/1563 [==============================] - 63s 40ms/step - loss: 0.7026 - accuracy: 0.7496\n",
      "Epoch 31/50\n",
      "1563/1563 [==============================] - 63s 40ms/step - loss: 0.6999 - accuracy: 0.7516\n",
      "Epoch 32/50\n",
      "1563/1563 [==============================] - 63s 40ms/step - loss: 0.6973 - accuracy: 0.7522\n",
      "Epoch 33/50\n",
      "1563/1563 [==============================] - 63s 40ms/step - loss: 0.6924 - accuracy: 0.7540\n",
      "Epoch 34/50\n",
      "1563/1563 [==============================] - 63s 40ms/step - loss: 0.6924 - accuracy: 0.7550\n",
      "Epoch 35/50\n",
      "1563/1563 [==============================] - 64s 41ms/step - loss: 0.6895 - accuracy: 0.7551\n",
      "Epoch 36/50\n",
      "1563/1563 [==============================] - 59s 37ms/step - loss: 0.6903 - accuracy: 0.7526\n",
      "Epoch 37/50\n",
      "1563/1563 [==============================] - 59s 37ms/step - loss: 0.6850 - accuracy: 0.7542\n",
      "Epoch 38/50\n",
      "1563/1563 [==============================] - 59s 38ms/step - loss: 0.6808 - accuracy: 0.7581\n",
      "Epoch 39/50\n",
      "1563/1563 [==============================] - 59s 38ms/step - loss: 0.6778 - accuracy: 0.7590\n",
      "Epoch 40/50\n",
      "1563/1563 [==============================] - 59s 38ms/step - loss: 0.6761 - accuracy: 0.7600\n",
      "Epoch 41/50\n",
      "1563/1563 [==============================] - 59s 38ms/step - loss: 0.6742 - accuracy: 0.7597\n",
      "Epoch 42/50\n",
      "1563/1563 [==============================] - 60s 38ms/step - loss: 0.6714 - accuracy: 0.7603\n",
      "Epoch 43/50\n",
      "1563/1563 [==============================] - 60s 38ms/step - loss: 0.6696 - accuracy: 0.7627\n",
      "Epoch 44/50\n",
      "1563/1563 [==============================] - 60s 38ms/step - loss: 0.6694 - accuracy: 0.7612\n",
      "Epoch 45/50\n",
      "1563/1563 [==============================] - 60s 38ms/step - loss: 0.6630 - accuracy: 0.7648\n",
      "Epoch 46/50\n",
      "1563/1563 [==============================] - 60s 38ms/step - loss: 0.6621 - accuracy: 0.7646\n",
      "Epoch 47/50\n",
      "1563/1563 [==============================] - 60s 38ms/step - loss: 0.6593 - accuracy: 0.7641\n",
      "Epoch 48/50\n",
      "1563/1563 [==============================] - 60s 38ms/step - loss: 0.6582 - accuracy: 0.7648\n",
      "Epoch 49/50\n",
      "1563/1563 [==============================] - 60s 38ms/step - loss: 0.6594 - accuracy: 0.7656\n",
      "Epoch 50/50\n",
      "1563/1563 [==============================] - 60s 38ms/step - loss: 0.6531 - accuracy: 0.7669\n"
     ]
    },
    {
     "data": {
      "text/plain": [
       "<keras.callbacks.History at 0x7fb4c2a49f10>"
      ]
     },
     "execution_count": 55,
     "metadata": {},
     "output_type": "execute_result"
    }
   ],
   "source": [
    "model.fit(X_train,Y_train,epochs=50)"
   ]
  },
  {
   "cell_type": "code",
   "execution_count": 56,
   "metadata": {
    "colab": {
     "base_uri": "https://localhost:8080/"
    },
    "id": "sdVFhFca5P05",
    "outputId": "3a42200b-60a1-4c5f-f221-8ba912af3197"
   },
   "outputs": [
    {
     "name": "stdout",
     "output_type": "stream",
     "text": [
      "313/313 [==============================] - 4s 12ms/step - loss: 0.9450 - accuracy: 0.6924\n"
     ]
    },
    {
     "data": {
      "text/plain": [
       "[0.9450412392616272, 0.6923999786376953]"
      ]
     },
     "execution_count": 56,
     "metadata": {},
     "output_type": "execute_result"
    }
   ],
   "source": [
    "model.evaluate(X_test,Y_test)"
   ]
  },
  {
   "cell_type": "code",
   "execution_count": 59,
   "metadata": {
    "id": "yiNDQNYU5Snd"
   },
   "outputs": [],
   "source": [
    "Y_test = Y_test.ravel()"
   ]
  },
  {
   "cell_type": "code",
   "execution_count": 61,
   "metadata": {
    "colab": {
     "base_uri": "https://localhost:8080/"
    },
    "id": "MmTJGoorMI7t",
    "outputId": "ef6a284f-cfdb-4fbd-b279-3e66570e32e8"
   },
   "outputs": [
    {
     "data": {
      "text/plain": [
       "array([3, 8, 8, ..., 5, 1, 7], dtype=uint8)"
      ]
     },
     "execution_count": 61,
     "metadata": {},
     "output_type": "execute_result"
    }
   ],
   "source": [
    "Y_test"
   ]
  },
  {
   "cell_type": "code",
   "execution_count": 63,
   "metadata": {
    "id": "ZTInomeBMLy8"
   },
   "outputs": [],
   "source": [
    "Y_pred = model.predict(X_test)"
   ]
  },
  {
   "cell_type": "code",
   "execution_count": 65,
   "metadata": {
    "colab": {
     "base_uri": "https://localhost:8080/"
    },
    "id": "yRMz7yBXMVtT",
    "outputId": "4ba53bb2-b1f2-4f7c-978f-aa45b7c9d8f1"
   },
   "outputs": [
    {
     "data": {
      "text/plain": [
       "array([[6.17057231e-05, 2.44934768e-06, 1.36540388e-03, 9.77138162e-01,\n",
       "        1.32814557e-05, 1.28503954e-02, 4.51438827e-03, 2.55136129e-05,\n",
       "        3.98949347e-03, 3.92629227e-05],\n",
       "       [6.23272383e-04, 1.09273067e-03, 1.01219248e-05, 3.26700786e-07,\n",
       "        1.08923466e-07, 2.61417803e-08, 4.33537571e-06, 5.15962162e-10,\n",
       "        9.98257339e-01, 1.17711252e-05],\n",
       "       [1.55819744e-01, 1.15190811e-01, 1.13484019e-03, 9.18304431e-04,\n",
       "        3.23724747e-03, 4.27205814e-04, 1.75491532e-05, 1.37788628e-03,\n",
       "        6.65226460e-01, 5.66499531e-02],\n",
       "       [8.02654326e-01, 9.52681119e-04, 8.52851477e-03, 2.52495694e-04,\n",
       "        6.40850002e-03, 1.50397827e-04, 4.47482686e-04, 5.33140228e-05,\n",
       "        1.79201171e-01, 1.35108037e-03],\n",
       "       [2.90188063e-06, 2.21743420e-07, 3.12201981e-03, 4.52763634e-03,\n",
       "        5.05061541e-03, 3.52022820e-04, 9.86942530e-01, 1.99450071e-07,\n",
       "        1.40631641e-06, 4.10903908e-07]], dtype=float32)"
      ]
     },
     "execution_count": 65,
     "metadata": {},
     "output_type": "execute_result"
    }
   ],
   "source": [
    "Y_pred[:5]"
   ]
  },
  {
   "cell_type": "code",
   "execution_count": 66,
   "metadata": {
    "id": "FnvfGadkMhfU"
   },
   "outputs": [],
   "source": [
    "Y_classes = [np.argmax(element) for element in Y_pred]"
   ]
  },
  {
   "cell_type": "code",
   "execution_count": 88,
   "metadata": {
    "colab": {
     "base_uri": "https://localhost:8080/",
     "height": 279
    },
    "id": "ltzN8SsaPGgw",
    "outputId": "4b307218-95ac-4e4a-d618-90b0acdd822b"
   },
   "outputs": [
    {
     "data": {
      "image/png": "[encoded data removed]",
      "text/plain": [
       "<Figure size 432x288 with 2 Axes>"
      ]
     },
     "metadata": {
      "needs_background": "light"
     },
     "output_type": "display_data"
    }
   ],
   "source": [
    "confusion_matrix = metrics.confusion_matrix(Y_classes, Y_test)\n",
    "\n",
    "cm_display = metrics.ConfusionMatrixDisplay(confusion_matrix = confusion_matrix, display_labels = classes)\n",
    "\n",
    "cm_display.plot()\n",
    "plt.show()"
   ]
  }
 ],
 "metadata": {
  "colab": {
   "provenance": []
  },
  "kernelspec": {
   "display_name": "Python 3 (ipykernel)",
   "language": "python",
   "name": "python3"
  },
  "language_info": {
   "codemirror_mode": {
    "name": "ipython",
    "version": 3
   },
   "file_extension": ".py",
   "mimetype": "text/x-python",
   "name": "python",
   "nbconvert_exporter": "python",
   "pygments_lexer": "ipython3",
   "version": "3.9.12"
  }
 },
 "nbformat": 4,
 "nbformat_minor": 1
}
